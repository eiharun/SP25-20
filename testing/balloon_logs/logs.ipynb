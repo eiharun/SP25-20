{
 "cells": [
  {
   "cell_type": "code",
   "execution_count": 81,
   "id": "17376aa6",
   "metadata": {},
   "outputs": [],
   "source": [
    "import csv\n",
    "import folium "
   ]
  },
  {
   "cell_type": "code",
   "execution_count": null,
   "id": "39e6e6bf",
   "metadata": {},
   "outputs": [],
   "source": [
    "gs_coords = (37.23076314126423, -80.42473322034601)\n",
    "map = folium.Map(location=gs_coords, zoom_start=13, max_zoom=25)\n",
    "folium.Marker(gs_coords, tooltip='Whittemore Roof', popup='Whittemore Roof').add_to(map)"
   ]
  },
  {
   "cell_type": "code",
   "execution_count": 88,
   "id": "d0a6f71e",
   "metadata": {},
   "outputs": [],
   "source": [
    "with open(\"4-8-log.csv\", \"r\") as f:\n",
    "    reader = csv.reader(f, delimiter=\",\")\n",
    "    data = list(reader)"
   ]
  },
  {
   "cell_type": "code",
   "execution_count": 137,
   "id": "71fa3512",
   "metadata": {},
   "outputs": [
    {
     "name": "stdout",
     "output_type": "stream",
     "text": [
      "Packets Recieved    \tPackets Sent        \n",
      "----------------------------------------\n",
      "39                  \t39                  \n",
      "18                  \t34                  \n",
      "272                 \t290                 \n",
      "----------------------------------------\n",
      "Packet Drop Rate:\n",
      " Drone Field: 0.0000 %\n",
      " Prices Fork: 0.4706 %\n",
      " Bald Knob: 0.0621 %\n"
     ]
    }
   ],
   "source": [
    "locations = {\"Drone Field\": [], \"Prices Fork\": [], \"Bald Knob\": []}\n",
    "miss_rate = {\"Drone Field\": [], \"Prices Fork\": [], \"Bald Knob\": []}\n",
    "current_location = None\n",
    "recv_format = {data[2][x]: x for x in range(len(data[2]))}\n",
    "gps_format = {data[3][x]: x for x in range(len(data[3]))}\n",
    "last_coords=None\n",
    "for line in data[4:]:\n",
    "    if \"Drone Field\" in line[0]:\n",
    "        current_location = \"Drone Field\"\n",
    "    elif \"Prices Fork\" in line[0]:\n",
    "        current_location = \"Prices Fork\"\n",
    "    elif \"Bald Knob\" in line[0]:\n",
    "        current_location = \"Bald Knob\"\n",
    "    if current_location and line[0] == \"RECV\":\n",
    "        num = line[recv_format[\"data\"]]\n",
    "        locations[current_location].append(num[num.rfind(\"#\")+1:])\n",
    "print(\"{:<20}\\t{:<20}\".format(\"Packets Recieved\", \"Packets Sent\"))\n",
    "print(\"-\"*40)\n",
    "print(\"{:<20}\\t{:<20}\".format(len(locations[\"Drone Field\"]), int(locations[\"Drone Field\"][-1]) - int(locations[\"Drone Field\"][0])+1))\n",
    "print(\"{:<20}\\t{:<20}\".format(len(locations[\"Prices Fork\"]), int(locations[\"Prices Fork\"][-1]) - int(locations[\"Prices Fork\"][0])+1))\n",
    "print(\"{:<20}\\t{:<20}\".format(len(locations[\"Bald Knob\"]), int(locations[\"Bald Knob\"][-1]) - int(locations[\"Bald Knob\"][0])+1))\n",
    "miss_rate[\"Drone Field\"] = 1-(len(locations[\"Drone Field\"]) / (int(locations[\"Drone Field\"][-1])-int(locations[\"Drone Field\"][0])+1))\n",
    "miss_rate[\"Prices Fork\"] = 1-(len(locations[\"Prices Fork\"]) / (int(locations[\"Prices Fork\"][-1])-int(locations[\"Prices Fork\"][0])+1))\n",
    "miss_rate[\"Bald Knob\"] = 1-(len(locations[\"Bald Knob\"]) / (int(locations[\"Bald Knob\"][-1])-int(locations[\"Bald Knob\"][0])+1))\n",
    "print(\"-\"*40)\n",
    "print(f\"Packet Drop Rate:\\n Drone Field: {miss_rate['Drone Field']:.4f} %\\n Prices Fork: {miss_rate['Prices Fork']:.4f} %\\n Bald Knob: {miss_rate['Bald Knob']:.4f} %\")"
   ]
  },
  {
   "cell_type": "code",
   "execution_count": null,
   "id": "3fb7726e",
   "metadata": {},
   "outputs": [],
   "source": [
    "current_location = None\n",
    "recv_format = {data[2][x]: x for x in range(len(data[2]))}\n",
    "gps_format = {data[3][x]: x for x in range(len(data[3]))}\n",
    "last_coords=None\n",
    "for line in data[4:]:\n",
    "    if \"Drone Field\" in line[0]:\n",
    "        current_location = \"Drone Field\"\n",
    "    elif \"Prices Fork\" in line[0]:\n",
    "        current_location = \"Prices Fork\"\n",
    "    elif \"Bald Knob\" in line[0]:\n",
    "        current_location = \"Bald Knob\"\n",
    "        \n",
    "    if line[0] == \"RECV\":\n",
    "        popup= f\"SNR:{line[recv_format[\"SNR(db)\"]]}dB\\nRSSI:{line[recv_format[\"RSSI(dBm)\"]]}dBm\"\n",
    "        data=line[recv_format['data']]\n",
    "        tooltip = f\"{current_location} #{data[data.rfind('#')+1:]}\"\n",
    "        coords=(float(line[recv_format[\"Lat\"]]), float(line[recv_format[\"Lon\"]]))\n",
    "        if coords != (1000.0, 1000.0):\n",
    "            folium.Marker(coords, tooltip=tooltip, popup=popup).add_to(map)\n",
    "    elif line[0] == \"GPS\":\n",
    "        coords=(float(line[gps_format[\"Lat\"]]), float(line[gps_format[\"Lon\"]]))\n",
    "        if coords != (1000.0, 1000.0):\n",
    "            # if last_coords is not None:\n",
    "            #     folium.PolyLine([last_coords, coords], color=\"blue\", weight=2.5, opacity=1).add_to(map)\n",
    "            last_coords = coords\n",
    "            folium.Marker(coords, popup=\"Periodic GPS\",icon=folium.Icon(color=\"red\")).add_to(map)\n",
    "\n",
    "map"
   ]
  }
 ],
 "metadata": {
  "kernelspec": {
   "display_name": ".venv",
   "language": "python",
   "name": "python3"
  },
  "language_info": {
   "codemirror_mode": {
    "name": "ipython",
    "version": 3
   },
   "file_extension": ".py",
   "mimetype": "text/x-python",
   "name": "python",
   "nbconvert_exporter": "python",
   "pygments_lexer": "ipython3",
   "version": "3.12.9"
  }
 },
 "nbformat": 4,
 "nbformat_minor": 5
}
